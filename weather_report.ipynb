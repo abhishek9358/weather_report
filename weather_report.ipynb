{
 "cells": [
  {
   "cell_type": "code",
   "execution_count": 3,
   "metadata": {},
   "outputs": [
    {
     "name": "stdout",
     "output_type": "stream",
     "text": [
      " Temperature (in kelvin unit) = 305.77\n",
      " atmospheric pressure (in hPa unit) = 1010\n",
      " humidity (in percentage) = 43\n",
      " description = haze\n"
     ]
    }
   ],
   "source": [
    "import requests\n",
    "\n",
    "# Enter your API key here\n",
    "api_key = \"485532b151dfa68eae4a38fa83242186\"\n",
    "\n",
    "base_url = \"http://api.openweathermap.org/data/2.5/weather?\"\n",
    "\n",
    "def get_weather_data(city_name):\n",
    "   \n",
    "    complete_url = base_url + \"appid=\" + api_key + \"&q=\" + city_name\n",
    "    \n",
    "    try:\n",
    "     \n",
    "        response = requests.get(complete_url)\n",
    "        response.raise_for_status()\n",
    "        \n",
    "        weather_data = response.json()\n",
    "\n",
    "        if weather_data[\"cod\"] != \"404\":\n",
    "            return weather_data\n",
    "        else:\n",
    "            print(\"City Not Found\")\n",
    "            return None\n",
    "    except requests.exceptions.HTTPError as http_err:\n",
    "        print(f\"HTTP error occurred: {http_err}\")\n",
    "    except Exception as err:\n",
    "        print(f\"Other error occurred: {err}\")\n",
    "\n",
    "def display_weather_data(weather_data):\n",
    "    y = weather_data[\"main\"]\n",
    "\n",
    "    current_temperature = y[\"temp\"]\n",
    "\n",
    "    current_pressure = y[\"pressure\"]\n",
    "\n",
    "    current_humidity = y[\"humidity\"]\n",
    "\n",
    "    z = weather_data[\"weather\"]\n",
    "\n",
    "    weather_description = z[0][\"description\"]\n",
    "\n",
    "    print(\" Temperature (in kelvin unit) = \" +\n",
    "          str(current_temperature) +\n",
    "          \"\\n atmospheric pressure (in hPa unit) = \" +\n",
    "          str(current_pressure) +\n",
    "          \"\\n humidity (in percentage) = \" +\n",
    "          str(current_humidity) +\n",
    "          \"\\n description = \" +\n",
    "          str(weather_description))\n",
    "\n",
    "if __name__ == \"__main__\":\n",
    "    city_name = input(\"Enter city name: \")\n",
    "    weather_data = get_weather_data(city_name)\n",
    "    if weather_data:\n",
    "        display_weather_data(weather_data)\n"
   ]
  },
  {
   "cell_type": "code",
   "execution_count": null,
   "metadata": {},
   "outputs": [],
   "source": []
  }
 ],
 "metadata": {
  "kernelspec": {
   "display_name": "newenv",
   "language": "python",
   "name": "python3"
  },
  "language_info": {
   "codemirror_mode": {
    "name": "ipython",
    "version": 3
   },
   "file_extension": ".py",
   "mimetype": "text/x-python",
   "name": "python",
   "nbconvert_exporter": "python",
   "pygments_lexer": "ipython3",
   "version": "3.12.2"
  }
 },
 "nbformat": 4,
 "nbformat_minor": 2
}
